{
 "cells": [
  {
   "cell_type": "markdown",
   "metadata": {},
   "source": [
    "### Python Code to Calculate the Sum of Numbers\n",
    "\n",
    "The following Python code snippet defines a function to calculate the sum of a list of numbers. The `calculate_sum` function takes a list of numbers as input and returns the sum using Python's built-in `sum()` function.\n",
    "\n",
    "#### Code:\n",
    "\n",
    "```python\n",
    "def calculate_sum(numbers):\n",
    "    return sum(numbers)\n",
    "\n",
    "# Example usage\n",
    "numbers = [10, 20, 30, 40, 50]\n",
    "result = calculate_sum(numbers)\n",
    "print(\"The sum of the numbers is:\", result)\n"
   ]
  },
  {
   "cell_type": "code",
   "execution_count": null,
   "metadata": {
    "vscode": {
     "languageId": "plaintext"
    }
   },
   "outputs": [],
   "source": [
    "def calculate_sum(numbers):\n",
    "    return sum(numbers)\n",
    "\n",
    "# Example usage\n",
    "numbers = [10, 20, 30, 40, 50]\n",
    "result = calculate_sum(numbers)\n",
    "print(\"The sum of the numbers is:\", result)\n"
   ]
  }
 ],
 "metadata": {
  "language_info": {
   "name": "python"
  }
 },
 "nbformat": 4,
 "nbformat_minor": 2
}
